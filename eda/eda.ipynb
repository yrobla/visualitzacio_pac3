{
 "cells": [
  {
   "cell_type": "code",
   "execution_count": 1,
   "metadata": {},
   "outputs": [
    {
     "data": {
      "text/html": [
       "<div>\n",
       "<style scoped>\n",
       "    .dataframe tbody tr th:only-of-type {\n",
       "        vertical-align: middle;\n",
       "    }\n",
       "\n",
       "    .dataframe tbody tr th {\n",
       "        vertical-align: top;\n",
       "    }\n",
       "\n",
       "    .dataframe thead th {\n",
       "        text-align: right;\n",
       "    }\n",
       "</style>\n",
       "<table border=\"1\" class=\"dataframe\">\n",
       "  <thead>\n",
       "    <tr style=\"text-align: right;\">\n",
       "      <th></th>\n",
       "      <th>TipusCasData</th>\n",
       "      <th>RegioSanitariaCodi</th>\n",
       "      <th>RegioSanitariaDescripcio</th>\n",
       "      <th>EdatRang</th>\n",
       "      <th>SexeCodi</th>\n",
       "      <th>SexeDescripcio</th>\n",
       "      <th>TipusCasDescripcio</th>\n",
       "      <th>NumCasos</th>\n",
       "    </tr>\n",
       "  </thead>\n",
       "  <tbody>\n",
       "    <tr>\n",
       "      <th>0</th>\n",
       "      <td>04/05/2021</td>\n",
       "      <td>7100</td>\n",
       "      <td>ALT PIRINEU I ARAN</td>\n",
       "      <td>30-39</td>\n",
       "      <td>0.0</td>\n",
       "      <td>Home</td>\n",
       "      <td>Positiu TAR</td>\n",
       "      <td>1</td>\n",
       "    </tr>\n",
       "    <tr>\n",
       "      <th>1</th>\n",
       "      <td>04/05/2021</td>\n",
       "      <td>7100</td>\n",
       "      <td>ALT PIRINEU I ARAN</td>\n",
       "      <td>0-9</td>\n",
       "      <td>0.0</td>\n",
       "      <td>Home</td>\n",
       "      <td>Positiu per Test Ràpid</td>\n",
       "      <td>1</td>\n",
       "    </tr>\n",
       "    <tr>\n",
       "      <th>2</th>\n",
       "      <td>04/05/2021</td>\n",
       "      <td>7100</td>\n",
       "      <td>ALT PIRINEU I ARAN</td>\n",
       "      <td>10-19</td>\n",
       "      <td>1.0</td>\n",
       "      <td>Dona</td>\n",
       "      <td>Positiu TAR</td>\n",
       "      <td>1</td>\n",
       "    </tr>\n",
       "    <tr>\n",
       "      <th>3</th>\n",
       "      <td>04/05/2021</td>\n",
       "      <td>7803</td>\n",
       "      <td>BARCELONA CIUTAT</td>\n",
       "      <td>50-59</td>\n",
       "      <td>1.0</td>\n",
       "      <td>Dona</td>\n",
       "      <td>Positiu TAR</td>\n",
       "      <td>3</td>\n",
       "    </tr>\n",
       "    <tr>\n",
       "      <th>4</th>\n",
       "      <td>04/05/2021</td>\n",
       "      <td>7803</td>\n",
       "      <td>BARCELONA CIUTAT</td>\n",
       "      <td>90+</td>\n",
       "      <td>0.0</td>\n",
       "      <td>Home</td>\n",
       "      <td>Positiu per ELISA</td>\n",
       "      <td>2</td>\n",
       "    </tr>\n",
       "  </tbody>\n",
       "</table>\n",
       "</div>"
      ],
      "text/plain": [
       "  TipusCasData  RegioSanitariaCodi RegioSanitariaDescripcio EdatRang  \\\n",
       "0   04/05/2021                7100       ALT PIRINEU I ARAN    30-39   \n",
       "1   04/05/2021                7100       ALT PIRINEU I ARAN      0-9   \n",
       "2   04/05/2021                7100       ALT PIRINEU I ARAN    10-19   \n",
       "3   04/05/2021                7803         BARCELONA CIUTAT    50-59   \n",
       "4   04/05/2021                7803         BARCELONA CIUTAT      90+   \n",
       "\n",
       "   SexeCodi SexeDescripcio      TipusCasDescripcio  NumCasos  \n",
       "0       0.0           Home             Positiu TAR         1  \n",
       "1       0.0           Home  Positiu per Test Ràpid         1  \n",
       "2       1.0           Dona             Positiu TAR         1  \n",
       "3       1.0           Dona             Positiu TAR         3  \n",
       "4       0.0           Home       Positiu per ELISA         2  "
      ]
     },
     "execution_count": 1,
     "metadata": {},
     "output_type": "execute_result"
    }
   ],
   "source": [
    "import numpy as np\n",
    "import pandas as pd\n",
    "pd.set_option(\"display.precision\", 2)\n",
    "\n",
    "df = pd.read_csv('covid.csv')\n",
    "df.head()"
   ]
  },
  {
   "cell_type": "code",
   "execution_count": 2,
   "metadata": {},
   "outputs": [
    {
     "name": "stdout",
     "output_type": "stream",
     "text": [
      "(108840, 8)\n"
     ]
    }
   ],
   "source": [
    "print(df.shape)"
   ]
  },
  {
   "cell_type": "markdown",
   "metadata": {},
   "source": [
    "El dataset té 108840 files i 8 columnes."
   ]
  },
  {
   "cell_type": "code",
   "execution_count": 3,
   "metadata": {},
   "outputs": [
    {
     "name": "stdout",
     "output_type": "stream",
     "text": [
      "Index(['TipusCasData', 'RegioSanitariaCodi', 'RegioSanitariaDescripcio',\n",
      "       'EdatRang', 'SexeCodi', 'SexeDescripcio', 'TipusCasDescripcio',\n",
      "       'NumCasos'],\n",
      "      dtype='object')\n",
      "<class 'pandas.core.frame.DataFrame'>\n",
      "RangeIndex: 108840 entries, 0 to 108839\n",
      "Data columns (total 8 columns):\n",
      " #   Column                    Non-Null Count   Dtype  \n",
      "---  ------                    --------------   -----  \n",
      " 0   TipusCasData              108840 non-null  object \n",
      " 1   RegioSanitariaCodi        108840 non-null  int64  \n",
      " 2   RegioSanitariaDescripcio  108840 non-null  object \n",
      " 3   EdatRang                  108840 non-null  object \n",
      " 4   SexeCodi                  107861 non-null  float64\n",
      " 5   SexeDescripcio            108840 non-null  object \n",
      " 6   TipusCasDescripcio        108840 non-null  object \n",
      " 7   NumCasos                  108840 non-null  int64  \n",
      "dtypes: float64(1), int64(2), object(5)\n",
      "memory usage: 6.6+ MB\n",
      "None\n"
     ]
    }
   ],
   "source": [
    "print(df.columns)\n",
    "print(df.info())"
   ]
  },
  {
   "cell_type": "markdown",
   "metadata": {},
   "source": [
    "Les columnes són les següents:\n",
    "    - TipusCasData -> date, data dels casos trobats. S'haurà de transformar a una data vàlida\n",
    "    - RegioSanitariaCodi -> int, codi numèric identificatiu de la regió sanitària\n",
    "    - RegioSanitariaDescripcio -> enum, texte identificatiu de la regió sanitària\n",
    "    - EdatRang -> enum, rang d'edat dels casos detectats\n",
    "    - SexeCodi -> int, codi numèric identificatiu del sexe dels casos trobats\n",
    "    - SexeDescripcio -> enum, texte identificatiu del sexe dels casos trobats\n",
    "    - TipusCasDescripcio -> enum, mètode d'identificació dels casos trobats\n",
    "    - NumCasos -> int, número de casos trobats amb aquesta data, regió, edat, sexe i mètode"
   ]
  },
  {
   "cell_type": "markdown",
   "metadata": {},
   "source": [
    "Veiem que RegioSanitariaCodi i SexeCodi s'haurien de passar a string, doncs no són valors numèrics. El TipusCasData s'ha de passar a tipus data."
   ]
  },
  {
   "cell_type": "code",
   "execution_count": 4,
   "metadata": {},
   "outputs": [],
   "source": [
    "df['RegioSanitariaCodi'] = df['RegioSanitariaCodi'].astype('object')\n",
    "df['SexeCodi'] = df['SexeCodi'].astype('object')\n",
    "df['TipusCasData'] = pd.to_datetime(df['TipusCasData'], format='%d/%m/%Y')"
   ]
  },
  {
   "cell_type": "markdown",
   "metadata": {},
   "source": [
    "Descrivim l'únic valor numèric que tenim. Veiem que tenim 108840 entrades. El mínim de casos per registre és 1 i el màxim 148, amb una mitjana de 6 casos per grup."
   ]
  },
  {
   "cell_type": "code",
   "execution_count": 5,
   "metadata": {},
   "outputs": [
    {
     "data": {
      "text/html": [
       "<div>\n",
       "<style scoped>\n",
       "    .dataframe tbody tr th:only-of-type {\n",
       "        vertical-align: middle;\n",
       "    }\n",
       "\n",
       "    .dataframe tbody tr th {\n",
       "        vertical-align: top;\n",
       "    }\n",
       "\n",
       "    .dataframe thead th {\n",
       "        text-align: right;\n",
       "    }\n",
       "</style>\n",
       "<table border=\"1\" class=\"dataframe\">\n",
       "  <thead>\n",
       "    <tr style=\"text-align: right;\">\n",
       "      <th></th>\n",
       "      <th>NumCasos</th>\n",
       "    </tr>\n",
       "  </thead>\n",
       "  <tbody>\n",
       "    <tr>\n",
       "      <th>count</th>\n",
       "      <td>108840.00</td>\n",
       "    </tr>\n",
       "    <tr>\n",
       "      <th>mean</th>\n",
       "      <td>6.03</td>\n",
       "    </tr>\n",
       "    <tr>\n",
       "      <th>std</th>\n",
       "      <td>9.10</td>\n",
       "    </tr>\n",
       "    <tr>\n",
       "      <th>min</th>\n",
       "      <td>1.00</td>\n",
       "    </tr>\n",
       "    <tr>\n",
       "      <th>25%</th>\n",
       "      <td>1.00</td>\n",
       "    </tr>\n",
       "    <tr>\n",
       "      <th>50%</th>\n",
       "      <td>3.00</td>\n",
       "    </tr>\n",
       "    <tr>\n",
       "      <th>75%</th>\n",
       "      <td>7.00</td>\n",
       "    </tr>\n",
       "    <tr>\n",
       "      <th>max</th>\n",
       "      <td>148.00</td>\n",
       "    </tr>\n",
       "  </tbody>\n",
       "</table>\n",
       "</div>"
      ],
      "text/plain": [
       "        NumCasos\n",
       "count  108840.00\n",
       "mean        6.03\n",
       "std         9.10\n",
       "min         1.00\n",
       "25%         1.00\n",
       "50%         3.00\n",
       "75%         7.00\n",
       "max       148.00"
      ]
     },
     "execution_count": 5,
     "metadata": {},
     "output_type": "execute_result"
    }
   ],
   "source": [
    "df.describe()"
   ]
  },
  {
   "cell_type": "markdown",
   "metadata": {},
   "source": [
    "Fem el recompte dels valors categòrics. Per regió sanitària i sexe només cal extreure un dels 2 valors que la representen."
   ]
  },
  {
   "cell_type": "code",
   "execution_count": 6,
   "metadata": {},
   "outputs": [
    {
     "name": "stdout",
     "output_type": "stream",
     "text": [
      "Recompte per regió sanitària:\n",
      "BARCELONA CIUTAT      18652\n",
      "METROPOLITANA NORD    17957\n",
      "METROPOLITANA SUD     17170\n",
      "GIRONA                12594\n",
      "CATALUNYA CENTRAL     12040\n",
      "LLEIDA                10375\n",
      "CAMP DE TARRAGONA      9844\n",
      "TERRES DE L'EBRE       4860\n",
      "ALT PIRINEU I ARAN     4359\n",
      "No classificat          989\n",
      "Name: RegioSanitariaDescripcio, dtype: int64\n",
      "\n",
      "Recompte per edat:\n",
      "40-49             14075\n",
      "50-59             13679\n",
      "30-39             12757\n",
      "60-69             12011\n",
      "20-29             11862\n",
      "70-79             10321\n",
      "10-19              9594\n",
      "80-89              9075\n",
      "0-9                7668\n",
      "90+                5675\n",
      "No classificat     2123\n",
      "Name: EdatRang, dtype: int64\n",
      "\n",
      "Recompte per sexe:\n",
      "Dona              56357\n",
      "Home              51504\n",
      "No classificat      979\n",
      "Name: SexeDescripcio, dtype: int64\n",
      "\n",
      "Recompte per tipus:\n",
      "Positiu PCR               52602\n",
      "Positiu TAR               28476\n",
      "Positiu per ELISA         11841\n",
      "PCR probable               6850\n",
      "Positiu per Test Ràpid     6462\n",
      "Epidemiològic              2609\n",
      "Name: TipusCasDescripcio, dtype: int64\n",
      "\n"
     ]
    }
   ],
   "source": [
    "print(\"Recompte per regió sanitària:\\n{}\\n\".format(df['RegioSanitariaDescripcio'].value_counts()))\n",
    "print(\"Recompte per edat:\\n{}\\n\".format(df['EdatRang'].value_counts()))\n",
    "print(\"Recompte per sexe:\\n{}\\n\".format(df['SexeDescripcio'].value_counts()))\n",
    "print(\"Recompte per tipus:\\n{}\\n\".format(df['TipusCasDescripcio'].value_counts()))"
   ]
  },
  {
   "cell_type": "markdown",
   "metadata": {},
   "source": [
    "En quant a regions sanitàries, es troben més casos a Barcelona ciutat, i els que menys a Pirineus i Terres de l'Ebre.\n",
    "El rang d'edat amb més casos és la franja de 40-49, i els que menys casos tenen són entre 80-89 i 0-9.\n",
    "S'han trobat més casos a dones que a homes, tot i que la distribució és molt similar.\n",
    "La majoria de positius han vingut donar per proves PCR, seguit d'altres mètodes. L'epidemiològic és el mètode amb menys deteccions."
   ]
  },
  {
   "cell_type": "markdown",
   "metadata": {},
   "source": [
    "A continuació ordenem per data i fem un plot de data/casos:"
   ]
  },
  {
   "cell_type": "code",
   "execution_count": 23,
   "metadata": {},
   "outputs": [
    {
     "data": {
      "text/plain": [
       "<AxesSubplot:xlabel='TipusCasData'>"
      ]
     },
     "execution_count": 23,
     "metadata": {},
     "output_type": "execute_result"
    },
    {
     "data": {
      "image/png": "[encoded data removed]",
      "text/plain": [
       "<Figure size 720x720 with 1 Axes>"
      ]
     },
     "metadata": {
      "needs_background": "light"
     },
     "output_type": "display_data"
    }
   ],
   "source": [
    "df_sorted = df.sort_values(by='TipusCasData') \n",
    "grouped = df_sorted.groupby([df['TipusCasData'].dt.date]).sum()\n",
    "grouped.plot.line(figsize=(10,10))"
   ]
  },
  {
   "cell_type": "markdown",
   "metadata": {},
   "source": [
    "Visualitzant el número de casos, s'aprecia una primera onada al març de 2020, seguida d'una altra sobre novembre de 2021 i la tercera sobre gener de 2021."
   ]
  },
  {
   "cell_type": "markdown",
   "metadata": {},
   "source": [
    "Per tal de fer un millor tractament de les dades a la visualització, gravarem un nou csv amb les dades agrupades per dia, rang d'edat i regió. A més, eliminarem les dades no necessàries, i canviarem el format de la data:"
   ]
  },
  {
   "cell_type": "code",
   "execution_count": 50,
   "metadata": {},
   "outputs": [],
   "source": [
    "# eliminem les columnes necessaries\n",
    "df_sorted = df.sort_values(by='TipusCasData') \n",
    "\n",
    "df_sorted = df_sorted.drop(\"RegioSanitariaCodi\", axis=1)\n",
    "df_sorted = df_sorted.drop(\"SexeCodi\", axis=1)\n",
    "df_sorted = df_sorted.drop(\"TipusCasDescripcio\", axis=1)\n",
    "df_sorted = df_sorted.drop(\"SexeDescripcio\", axis=1)\n",
    "\n",
    "# eliminem les files amb \"No Classificat\"\n",
    "df_sorted = df_sorted[df_sorted.RegioSanitariaDescripcio != \"No classificat\"]\n",
    "df_sorted = df_sorted[df_sorted.EdatRang != \"No classificat\"]"
   ]
  },
  {
   "cell_type": "code",
   "execution_count": 51,
   "metadata": {},
   "outputs": [
    {
     "data": {
      "text/html": [
       "<div>\n",
       "<style scoped>\n",
       "    .dataframe tbody tr th:only-of-type {\n",
       "        vertical-align: middle;\n",
       "    }\n",
       "\n",
       "    .dataframe tbody tr th {\n",
       "        vertical-align: top;\n",
       "    }\n",
       "\n",
       "    .dataframe thead th {\n",
       "        text-align: right;\n",
       "    }\n",
       "</style>\n",
       "<table border=\"1\" class=\"dataframe\">\n",
       "  <thead>\n",
       "    <tr style=\"text-align: right;\">\n",
       "      <th></th>\n",
       "      <th>TipusCasData</th>\n",
       "      <th>RegioSanitariaDescripcio</th>\n",
       "      <th>EdatRang</th>\n",
       "      <th>Total</th>\n",
       "    </tr>\n",
       "  </thead>\n",
       "  <tbody>\n",
       "    <tr>\n",
       "      <th>108838</th>\n",
       "      <td>2020-03-01</td>\n",
       "      <td>BARCELONA CIUTAT</td>\n",
       "      <td>20-29</td>\n",
       "      <td>1</td>\n",
       "    </tr>\n",
       "    <tr>\n",
       "      <th>108835</th>\n",
       "      <td>2020-03-02</td>\n",
       "      <td>METROPOLITANA SUD</td>\n",
       "      <td>60-69</td>\n",
       "      <td>1</td>\n",
       "    </tr>\n",
       "    <tr>\n",
       "      <th>108834</th>\n",
       "      <td>2020-03-02</td>\n",
       "      <td>CATALUNYA CENTRAL</td>\n",
       "      <td>30-39</td>\n",
       "      <td>2</td>\n",
       "    </tr>\n",
       "    <tr>\n",
       "      <th>108832</th>\n",
       "      <td>2020-03-02</td>\n",
       "      <td>BARCELONA CIUTAT</td>\n",
       "      <td>30-39</td>\n",
       "      <td>1</td>\n",
       "    </tr>\n",
       "    <tr>\n",
       "      <th>108831</th>\n",
       "      <td>2020-03-02</td>\n",
       "      <td>BARCELONA CIUTAT</td>\n",
       "      <td>50-59</td>\n",
       "      <td>1</td>\n",
       "    </tr>\n",
       "  </tbody>\n",
       "</table>\n",
       "</div>"
      ],
      "text/plain": [
       "       TipusCasData RegioSanitariaDescripcio EdatRang  Total\n",
       "108838   2020-03-01         BARCELONA CIUTAT    20-29      1\n",
       "108835   2020-03-02        METROPOLITANA SUD    60-69      1\n",
       "108834   2020-03-02        CATALUNYA CENTRAL    30-39      2\n",
       "108832   2020-03-02         BARCELONA CIUTAT    30-39      1\n",
       "108831   2020-03-02         BARCELONA CIUTAT    50-59      1"
      ]
     },
     "execution_count": 51,
     "metadata": {},
     "output_type": "execute_result"
    }
   ],
   "source": [
    "df_sorted['Total'] = df_sorted.groupby([\"TipusCasData\", \"RegioSanitariaDescripcio\", \"EdatRang\"])[\"NumCasos\"].transform('sum')\n",
    "df_unique = df_sorted.drop_duplicates(subset=[\"TipusCasData\", \"RegioSanitariaDescripcio\", \"EdatRang\"])\n",
    "df_unique = df_unique.drop(\"NumCasos\", axis=1)\n",
    "df_unique.head()"
   ]
  },
  {
   "cell_type": "code",
   "execution_count": 52,
   "metadata": {},
   "outputs": [],
   "source": [
    "# gravem el csv final\n",
    "df_unique.to_csv(\"./final_data.csv\", header=T)"
   ]
  },
  {
   "cell_type": "code",
   "execution_count": null,
   "metadata": {},
   "outputs": [],
   "source": []
  }
 ],
 "metadata": {
  "kernelspec": {
   "display_name": "Python 3",
   "language": "python",
   "name": "python3"
  },
  "language_info": {
   "codemirror_mode": {
    "name": "ipython",
    "version": 3
   },
   "file_extension": ".py",
   "mimetype": "text/x-python",
   "name": "python",
   "nbconvert_exporter": "python",
   "pygments_lexer": "ipython3",
   "version": "3.8.8"
  }
 },
 "nbformat": 4,
 "nbformat_minor": 4
}
